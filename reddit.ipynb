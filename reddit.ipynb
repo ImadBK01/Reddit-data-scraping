{
 "cells": [
  {
   "cell_type": "code",
   "execution_count": 4,
   "id": "18549cee-565b-456d-bd32-dd666500cb2b",
   "metadata": {},
   "outputs": [],
   "source": [
    "import praw\n",
    "import pandas as pd"
   ]
  },
  {
   "cell_type": "code",
   "execution_count": 9,
   "id": "ac6c0233-2fbb-44a4-b0fc-f8584095c7f2",
   "metadata": {},
   "outputs": [],
   "source": [
    "UG=\"Scraper 3.7 u/imad_kb\"\n",
    "reddit = praw.Reddit(\n",
    "        client_id='YEMaTAYkM8Po_urlZ-XOcw',\n",
    "        client_secret='-DG_zl9duZkdMoAE4eZho1ut0sJlqQ',\n",
    "        user_agent=UG,\n",
    "    )"
   ]
  },
  {
   "source": [
    "# Create empty lists to store data\n",
    "titles = []\n",
    "submission_ids = []\n",
    "authors = []\n",
    "scores = []\n",
    "upvote_ratios = []\n",
    "num_comments = []\n",
    "urls = []\n",
    "\n",
    "for submission in reddit.subreddit('News').hot(limit=None):\n",
    "\n",
    "    # Append data to lists\n",
    "    titles.append(submission.title)\n",
    "    submission_ids.append(submission.id)\n",
    "    authors.append(submission.author)\n",
    "    scores.append(submission.score)\n",
    "    upvote_ratios.append(submission.upvote_ratio)\n",
    "    num_comments.append(submission.num_comments)\n",
    "    urls.append(submission.url)"
   ]
  },
  {
   "cell_type": "code",
   "execution_count": null,
   "id": "a8d6579e-0afe-4eb3-a511-ce4bf6df8c90",
   "metadata": {},
   "outputs": [],
   "source": [
    "# Create a DataFrame using the lists\n",
    "df = pd.DataFrame({\n",
    "    'Title': titles,\n",
    "    'Submission ID': submission_ids,\n",
    "    'Author': authors,\n",
    "    'Score': scores,\n",
    "    'Upvote Ratio': upvote_ratios,\n",
    "    'Number of Comments': num_comments,\n",
    "    'URL': urls\n",
    "})\n",
    "\n",
    "# Print or manipulate the DataFrame as needed\n",
    "print(df)\n",
    "# Save the DataFrame to a CSV file\n",
    "df.to_csv('reddit_data.csv', index=False)\n"
   ]
  }
 ],
 "metadata": {
  "kernelspec": {
   "display_name": "Python 3 (ipykernel)",
   "language": "python",
   "name": "python3"
  },
  "language_info": {
   "codemirror_mode": {
    "name": "ipython",
    "version": 3
   },
   "file_extension": ".py",
   "mimetype": "text/x-python",
   "name": "python",
   "nbconvert_exporter": "python",
   "pygments_lexer": "ipython3",
   "version": "3.8.0"
  }
 },
 "nbformat": 4,
 "nbformat_minor": 5
}
