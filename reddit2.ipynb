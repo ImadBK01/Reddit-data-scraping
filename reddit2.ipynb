{
 "cells": [
  {
   "cell_type": "code",
   "execution_count": 8,
   "id": "18549cee-565b-456d-bd32-dd666500cb2b",
   "metadata": {},
   "outputs": [],
   "source": [
    "import praw\n",
    "import pandas as pd\n",
    "from datetime import datetime\n"
   ]
  },
  {
   "cell_type": "code",
   "execution_count": 9,
   "id": "ac6c0233-2fbb-44a4-b0fc-f8584095c7f2",
   "metadata": {},
   "outputs": [],
   "source": [
    "UG=\"Scraper 3.7 u/imad_kb\"\n",
    "reddit = praw.Reddit(\n",
    "        client_id='YEMaTAYkM8Po_urlZ-XOcw',\n",
    "        client_secret='-DG_zl9duZkdMoAE4eZho1ut0sJlqQ',\n",
    "        user_agent=UG,\n",
    "    )"
   ]
  },
  {
   "cell_type": "code",
   "execution_count": 11,
   "id": "87d32c4b-abd0-42c7-a300-195479f0e16a",
   "metadata": {},
   "outputs": [],
   "source": [
    "# Create empty lists to store data\n",
    "comments = []\n",
    "comment_authors = []\n",
    "comment_timestamps = []\n",
    "\n",
    "# Iterate through the hot submissions in the specified subreddit\n",
    "for submission in reddit.subreddit(\"News\").hot(limit=None):  # Adjust the limit as needed\n",
    " # Iterate through submission comments\n",
    "    for comment in submission.comments.list():\n",
    "        # Check if the comment is an instance of MoreComments\n",
    "        if isinstance(comment, praw.models.MoreComments):\n",
    "            continue  # Skip MoreComments objects\n",
    "\n",
    "        # Append comment information\n",
    "        comments.append(comment.body)\n",
    "        comment_authors.append(comment.author.name if comment.author else \"Unknown\")\n",
    "\n",
    "        # Convert timestamp to human-readable date and time\n",
    "        timestamp = datetime.utcfromtimestamp(comment.created_utc)\n",
    "        comment_timestamps.append(timestamp)\n"
   ]
  },
  {
   "cell_type": "code",
   "execution_count": 12,
   "id": "a8d6579e-0afe-4eb3-a511-ce4bf6df8c90",
   "metadata": {},
   "outputs": [
    {
     "name": "stdout",
     "output_type": "stream",
     "text": [
      "                                             Comment      Comment Author  \\\n",
      "0  > The 5-4 vote\\n\\nThe more troubling (but not ...  AwesomeBrainPowers   \n",
      "1  Chief Justice John Roberts and Justices Amy Co...     HugryHugryHippo   \n",
      "2  Texans got to pay for this twice.  Once when t...                 dq9   \n",
      "3                We are being governed by imbeciles.               KSegg   \n",
      "4  Why?  What's wrong with underwater razor wire?...        rndmsquirrel   \n",
      "\n",
      "    Comment Timestamp  \n",
      "0 2024-01-22 22:46:13  \n",
      "1 2024-01-22 23:42:00  \n",
      "2 2024-01-23 00:23:33  \n",
      "3 2024-01-23 00:02:30  \n",
      "4 2024-01-23 00:29:47  \n"
     ]
    }
   ],
   "source": [
    "# Create a DataFrame\n",
    "df = pd.DataFrame({\n",
    "    'Comment': comments,\n",
    "    'Comment Author': comment_authors,\n",
    "    'Comment Timestamp': comment_timestamps\n",
    "})\n",
    "\n",
    "# Save the DataFrame to a CSV file\n",
    "df.to_csv('reddit_comments_dataset.csv', index=False)\n",
    "\n",
    "# Display the DataFrame\n",
    "print(df.head())\n"
   ]
  },
  {
   "cell_type": "code",
   "execution_count": null,
   "id": "e9c5c0f5-7faf-4b55-87b0-1b12d3cab2dd",
   "metadata": {},
   "outputs": [],
   "source": []
  }
 ],
 "metadata": {
  "kernelspec": {
   "display_name": "Python 3 (ipykernel)",
   "language": "python",
   "name": "python3"
  },
  "language_info": {
   "codemirror_mode": {
    "name": "ipython",
    "version": 3
   },
   "file_extension": ".py",
   "mimetype": "text/x-python",
   "name": "python",
   "nbconvert_exporter": "python",
   "pygments_lexer": "ipython3",
   "version": "3.11.5"
  }
 },
 "nbformat": 4,
 "nbformat_minor": 5
}
